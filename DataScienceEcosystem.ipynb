{
 "cells": [
  {
   "cell_type": "markdown",
   "id": "674bef80-ad30-4e33-920f-66f0a34cb764",
   "metadata": {},
   "source": [
    "Data Science Tools and Ecosystem"
   ]
  },
  {
   "cell_type": "markdown",
   "id": "0fd57211-a38f-4916-bbdf-591eadfe1e02",
   "metadata": {},
   "source": [
    "In this notebook, Data Science Tools and Ecosystem are summarized."
   ]
  },
  {
   "cell_type": "markdown",
   "id": "1b1d9cc8-430f-441b-b968-24f1b2529737",
   "metadata": {},
   "source": [
    "**Objectives:**\r\n",
    "\r\n",
    "- List popular languages for Data Science\r\n",
    "- List commonly used libraries in Data Science\r\n",
    "- Create tables and lists using markdown\r\n",
    "- Perform arithmetic operations in Python\r\n",
    "- Convert minutes to hours using Python\r\n"
   ]
  },
  {
   "cell_type": "markdown",
   "id": "952ba8a3-683b-4865-baa9-90230ba5c85c",
   "metadata": {},
   "source": [
    "Some of the popular languages that Data Scientists use are:\r\n",
    "\r\n",
    "1. Python\r\n",
    "2. R\r\n",
    "3. SQL\r\n",
    "4. Julia\r\n",
    "5. Scala\r\n"
   ]
  },
  {
   "cell_type": "markdown",
   "id": "063add5e-16f7-478a-891d-f418a747b909",
   "metadata": {},
   "source": [
    "Some of the commonly used libraries used by Data Scientists include:\r\n",
    "\r\n",
    "1. Pandas\r\n",
    "2. NumPy\r\n",
    "3. Matplotlib\r\n",
    "4. Scikit-learn\r\n",
    "5. TensorFlow\r\n"
   ]
  },
  {
   "attachments": {},
   "cell_type": "markdown",
   "id": "7aedf192-69f0-4617-a831-fd99e12a7a5d",
   "metadata": {},
   "source": [
    "| Data Science Tools       |\r\n",
    "|--------------------------|\r\n",
    "| Jupyter Notebook          |\r\n",
    "| RStudio                   |\r\n",
    "| Apache Zeppelin           |\r\n"
   ]
  },
  {
   "cell_type": "markdown",
   "id": "3064887c-e4ae-4fa1-839f-939c227e6759",
   "metadata": {},
   "source": [
    "### Below are a few examples of evaluating arithmetic expressions in Python.\r\n"
   ]
  },
  {
   "cell_type": "code",
   "execution_count": 8,
   "id": "93b78fce-c506-42d8-8b3e-a9642efbb39a",
   "metadata": {},
   "outputs": [
    {
     "data": {
      "text/plain": [
       "17"
      ]
     },
     "execution_count": 8,
     "metadata": {},
     "output_type": "execute_result"
    }
   ],
   "source": [
    "# This is a simple arithmetic expression to multiply then add integers\n",
    "(3 * 4) + 5\n"
   ]
  },
  {
   "cell_type": "code",
   "execution_count": 10,
   "id": "688cd672-ee8d-4482-bc93-d546d5cf7998",
   "metadata": {},
   "outputs": [
    {
     "data": {
      "text/plain": [
       "3.3333333333333335"
      ]
     },
     "execution_count": 10,
     "metadata": {},
     "output_type": "execute_result"
    }
   ],
   "source": [
    "# This will convert 200 minutes to hours by dividing by 60\n",
    "200 / 60\n"
   ]
  },
  {
   "cell_type": "markdown",
   "id": "44efcc11-a307-4451-b274-baba4b2dc5e7",
   "metadata": {},
   "source": [
    "## Author\r\n",
    "Tariq Khane\r\n"
   ]
  }
 ],
 "metadata": {
  "kernelspec": {
   "display_name": "Python 3 (ipykernel)",
   "language": "python",
   "name": "python3"
  },
  "language_info": {
   "codemirror_mode": {
    "name": "ipython",
    "version": 3
   },
   "file_extension": ".py",
   "mimetype": "text/x-python",
   "name": "python",
   "nbconvert_exporter": "python",
   "pygments_lexer": "ipython3",
   "version": "3.12.4"
  }
 },
 "nbformat": 4,
 "nbformat_minor": 5
}
